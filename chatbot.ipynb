{
 "cells": [
  {
   "cell_type": "code",
   "execution_count": 10,
   "id": "e9e7b8a6",
   "metadata": {},
   "outputs": [],
   "source": [
    "from api_key import OpenAIkey\n",
    "import gradio as gr\n",
    "import openai\n",
    "import random\n",
    "import time\n",
    "\n",
    "# Set up OpenAI API key\n",
    "openai.api_key = OpenIAkey\n",
    "\n",
    "system_message = {\"role\": \"system\", \"content\": \"You are a helpful assistant.\"}\n",
    "\n",
    "with gr.Blocks() as demo:\n",
    "    chatbot = gr.Chatbot()\n",
    "    msg = gr.Textbox()\n",
    "    clear = gr.Button(\"Clear\")\n",
    "\n",
    "    state = gr.State([])\n",
    "\n",
    "    def user(user_message, history):\n",
    "        return \"\", history + [[user_message, None]]\n",
    "\n",
    "    def bot(history, messages_history):\n",
    "        user_message = history[-1][0]\n",
    "        bot_message, messages_history = ask_gpt(user_message, messages_history)\n",
    "        messages_history += [{\"role\": \"assistant\", \"content\": bot_message}]\n",
    "        history[-1][1] = bot_message\n",
    "        time.sleep(1)\n",
    "        return history, messages_history\n",
    "\n",
    "    def ask_gpt(message, messages_history):\n",
    "        # Recupérer le message entrer par l'utilisateur\n",
    "        messages_history += [{\"role\": \"user\", \"content\": message}]\n",
    "        # On va utiliser l'API de OpenAI pour nous générer une réponse\n",
    "        # Modèle utilisé c'est le GTP 3.5 Turbo\n",
    "        response = openai.ChatCompletion.create(\n",
    "            model=\"gpt-3.5-turbo\",\n",
    "            messages=messages_history\n",
    "        )\n",
    "        # On retourne le msg entrer par l'utilisateur et la réponse générer par GTP 3.5 Turbo\n",
    "        return response['choices'][0]['message']['content'], messages_history\n",
    "\n",
    "    def init_history(messages_history):\n",
    "        messages_history = []\n",
    "        messages_history += [system_message]\n",
    "        return messages_history\n",
    "\n",
    "    msg.submit(user, [msg, chatbot], [msg, chatbot], queue=False).then(\n",
    "        bot, [chatbot, state], [chatbot, state]\n",
    "    )\n",
    "\n",
    "    clear.click(lambda: None, None, chatbot, queue=False).success(init_history, [state], [state])\n",
    "\n",
    "demo.launch()"
   ]
  }
 ],
 "metadata": {
  "kernelspec": {
   "display_name": "Python 3 (ipykernel)",
   "language": "python",
   "name": "python3"
  },
  "language_info": {
   "codemirror_mode": {
    "name": "ipython",
    "version": 3
   },
   "file_extension": ".py",
   "mimetype": "text/x-python",
   "name": "python",
   "nbconvert_exporter": "python",
   "pygments_lexer": "ipython3",
   "version": "3.9.7"
  }
 },
 "nbformat": 4,
 "nbformat_minor": 5
}
